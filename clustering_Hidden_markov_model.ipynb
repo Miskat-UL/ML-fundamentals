{
  "nbformat": 4,
  "nbformat_minor": 0,
  "metadata": {
    "colab": {
      "name": "clustering/ Hidden markov model.ipynb",
      "provenance": []
    },
    "kernelspec": {
      "name": "python3",
      "display_name": "Python 3"
    },
    "language_info": {
      "name": "python"
    }
  },
  "cells": [
    {
      "cell_type": "code",
      "execution_count": null,
      "metadata": {
        "id": "vkyk1PNs-hPE"
      },
      "outputs": [],
      "source": [
        "import tensorflow_probability as tfp"
      ]
    },
    {
      "cell_type": "code",
      "source": [
        "import tensorflow as tf"
      ],
      "metadata": {
        "id": "BAmDhGGkIFY4"
      },
      "execution_count": null,
      "outputs": []
    },
    {
      "cell_type": "markdown",
      "source": [
        " A simple weather model.\n",
        "\n",
        "Represent a cold day with 0 and a hot day with 1.\n",
        "Suppose the first day of a sequence has a 0.8 chance of being cold.\n",
        "We can model this using the categorical distribution:\n",
        "\n",
        "Suppose a cold day has a 30% chance of being followed by a hot day\n",
        "and a hot day has a 20% chance of being followed by a cold day.\n",
        "We can model this as:\n",
        "\n",
        "Suppose additionally that on each day the temperature is\n",
        "normally distributed with mean and standard deviation 0 and 5 on\n",
        "a cold day and mean and standard deviation 15 and 10 on a hot day.\n",
        "We can model this with:\n",
        "\n"
      ],
      "metadata": {
        "id": "ZLUuFP8MdBBG"
      }
    },
    {
      "cell_type": "code",
      "source": [
        "tfd = tfp.distributions\n",
        "\n",
        "# A simple weather model.\n",
        "\n",
        "# Represent a cold day with 0 and a hot day with 1.\n",
        "# Suppose the first day of a sequence has a 0.8 chance of being cold.\n",
        "# We can model this using the categorical distribution:\n",
        "\n",
        "initial_distribution = tfd.Categorical(probs=[0.8, 0.2])\n",
        "\n",
        "# Suppose a cold day has a 30% chance of being followed by a hot day\n",
        "# and a hot day has a 20% chance of being followed by a cold day.\n",
        "# We can model this as:\n",
        "\n",
        "transition_distribution = tfd.Categorical(probs=[[0.7, 0.3],\n",
        "                                                 [0.2, 0.8]])\n",
        "\n",
        "# Suppose additionally that on each day the temperature is\n",
        "# normally distributed with mean and standard deviation 0 and 5 on\n",
        "# a cold day and mean and standard deviation 15 and 10 on a hot day.\n",
        "# We can model this with:\n",
        "\n",
        "observation_distribution = tfd.Normal(loc=[0., 15.], scale=[5., 10.])\n",
        "\n",
        "# We can combine these distributions into a single week long\n",
        "# hidden Markov model with:\n",
        "\n",
        "model = tfd.HiddenMarkovModel(\n",
        "    initial_distribution=initial_distribution,\n",
        "    transition_distribution=transition_distribution,\n",
        "    observation_distribution=observation_distribution,\n",
        "    num_steps=7)\n",
        "\n",
        "# The expected temperatures for each day are given by:\n",
        "\n",
        "model.mean()  # shape [7], elements approach 9.0\n",
        "\n",
        "# The log pdf of a week of temperature 0 is:\n",
        "\n",
        "model.log_prob(tf.zeros(shape=[7]))"
      ],
      "metadata": {
        "colab": {
          "base_uri": "https://localhost:8080/"
        },
        "id": "3MzgBM5MIGKG",
        "outputId": "037ebe8d-770b-4883-bbe1-4de35800a9e0"
      },
      "execution_count": null,
      "outputs": [
        {
          "output_type": "execute_result",
          "data": {
            "text/plain": [
              "<tf.Tensor: shape=(), dtype=float32, numpy=-19.855635>"
            ]
          },
          "metadata": {},
          "execution_count": 3
        }
      ]
    },
    {
      "cell_type": "code",
      "source": [
        "mean= model.mean()"
      ],
      "metadata": {
        "id": "iVyqwChdIGVK"
      },
      "execution_count": null,
      "outputs": []
    },
    {
      "cell_type": "code",
      "source": [
        "mean.numpy()"
      ],
      "metadata": {
        "colab": {
          "base_uri": "https://localhost:8080/"
        },
        "id": "pDSY2yYUIGaW",
        "outputId": "b60b69e0-5701-4fcb-c482-594c7a5cfad6"
      },
      "execution_count": null,
      "outputs": [
        {
          "output_type": "execute_result",
          "data": {
            "text/plain": [
              "array([2.9999998, 5.9999995, 7.4999995, 8.25     , 8.625001 , 8.812501 ,\n",
              "       8.90625  ], dtype=float32)"
            ]
          },
          "metadata": {},
          "execution_count": 5
        }
      ]
    },
    {
      "cell_type": "code",
      "source": [
        ""
      ],
      "metadata": {
        "id": "y57NlEAzIGeb"
      },
      "execution_count": null,
      "outputs": []
    },
    {
      "cell_type": "code",
      "source": [
        ""
      ],
      "metadata": {
        "id": "ffBV2GkoIGhb"
      },
      "execution_count": null,
      "outputs": []
    },
    {
      "cell_type": "code",
      "source": [
        ""
      ],
      "metadata": {
        "id": "6fx8K6apIGkR"
      },
      "execution_count": null,
      "outputs": []
    },
    {
      "cell_type": "code",
      "source": [
        ""
      ],
      "metadata": {
        "id": "iWVL049iIGmj"
      },
      "execution_count": null,
      "outputs": []
    },
    {
      "cell_type": "code",
      "source": [
        ""
      ],
      "metadata": {
        "id": "BbLX4EuVIGrE"
      },
      "execution_count": null,
      "outputs": []
    },
    {
      "cell_type": "code",
      "source": [
        ""
      ],
      "metadata": {
        "id": "JHPxcJ1pIGti"
      },
      "execution_count": null,
      "outputs": []
    }
  ]
}